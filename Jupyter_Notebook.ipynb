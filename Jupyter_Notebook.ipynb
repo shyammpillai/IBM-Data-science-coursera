{
 "cells": [
  {
   "cell_type": "markdown",
   "metadata": {},
   "source": [
    "<center>\n",
    "    <img src=\"https://cf-courses-data.s3.us.cloud-object-storage.appdomain.cloud/IBMDeveloperSkillsNetwork-DS0105EN-SkillsNetwork/labs/Module2/images/SN_web_lightmode.png\" width=\"300\" alt=\"cognitiveclass.ai logo\">\n",
    "</center>\n"
   ]
  },
  {
   "cell_type": "markdown",
   "metadata": {},
   "source": [
    "#### Add your code below following the instructions given in the course\n"
   ]
  },
  {
   "cell_type": "markdown",
   "metadata": {},
   "source": [
    "# Test Submission"
   ]
  },
  {
   "cell_type": "markdown",
   "metadata": {
    "tags": []
   },
   "source": [
    "## This is my first Test submission for IBM Data Science Professional Certificate"
   ]
  },
  {
   "cell_type": "markdown",
   "metadata": {
    "jp-MarkdownHeadingCollapsed": true,
    "tags": []
   },
   "source": [
    "### List of data science languages\n",
    "*  Python \n",
    "* R SQL \n",
    "* Scala \n",
    "* Java \n",
    "* C++  \n",
    "* Julia \n",
    "* JavaScript \n",
    "* PHP \n",
    "* Go \n",
    "* Ruby \n",
    "* Visual Basic"
   ]
  },
  {
   "cell_type": "markdown",
   "metadata": {
    "tags": []
   },
   "source": [
    "### List of data science libraries\n",
    "* Pandas  \n",
    "* NumPy\n",
    "* Matplotlib\n",
    "* Seaborn\n",
    "* Vegas\n",
    "* ggplot2\n",
    "* Scikit-learn\n",
    "* Keras \n",
    "* TensorFlow\n",
    "* Pytorch \n",
    "* Big DL"
   ]
  },
  {
   "cell_type": "markdown",
   "metadata": {
    "tags": []
   },
   "source": [
    "### List of data science tools\n",
    "| Data Science Tools |\n",
    "| ------------------ |\n",
    "| MySQL |\n",
    "| PostgreSQL |\n",
    "| MongoDB |\n",
    "| Apache CouchDB |\n",
    "| Apache Cassandra |\n",
    "| Hadoop File System |\n",
    "| Ceph |\n",
    "|Elastic search |\n",
    "| Apache AirFlow |\n",
    "| KubeFlow |\n",
    "| Apache Kafka |\n",
    "| Apache Nifi |\n",
    "| Apache SparkSQL |\n",
    "| NodeRED |\n",
    "| Pixie Dust |\n",
    "| Hue |\n",
    "| Kibana | \n",
    "| Apache Superset | \n",
    "| Apache PredictionIO | \n",
    "| Seldon |\n",
    "| Kubernetes | \n",
    "| Redhat OpenShift | \n",
    "| Mleap | \n",
    "| TensorFlow service | \n",
    "| TensorFlow lite | \n",
    "| TensorFlow dot JS |\n",
    "| ModelDB |  \n",
    "| Prometheus |  \n",
    "| IBM AI Fairness 360 | \n",
    "| IBM Adversarial Robustness 360 Toolbox | \n",
    "| IBM AI Explainability 360 |  \n",
    "| Git |  \n",
    "| GitHub | \n",
    "| GitLab | \n",
    "| Bitbucket | \n",
    "| Apache Atlas |\n",
    "| ODPi Egeria | \n",
    "| Kylo |\n"
   ]
  },
  {
   "cell_type": "markdown",
   "metadata": {
    "tags": []
   },
   "source": [
    "## Arithmetic expression examples"
   ]
  },
  {
   "cell_type": "code",
   "execution_count": 10,
   "metadata": {
    "tags": []
   },
   "outputs": [
    {
     "name": "stdout",
     "output_type": "stream",
     "text": [
      "14\n",
      "49\n"
     ]
    }
   ],
   "source": [
    "x = 7 + 7\n",
    "\n",
    "y = 7 * 7\n",
    "\n",
    "print(x)\n",
    "print(y)"
   ]
  },
  {
   "cell_type": "code",
   "execution_count": 13,
   "metadata": {},
   "outputs": [
    {
     "name": "stdin",
     "output_type": "stream",
     "text": [
      "Enter time in minutes 30\n"
     ]
    },
    {
     "name": "stdout",
     "output_type": "stream",
     "text": [
      "Hours= 0.5\n"
     ]
    }
   ],
   "source": [
    "input_minutes = int(input(\"Enter time in minutes\"))\n",
    "hours=input_minutes/60\n",
    "print(\"Hours=\",hours)"
   ]
  },
  {
   "cell_type": "markdown",
   "metadata": {},
   "source": [
    "## Objectives\n",
    "* How to use the notebooks in JupyterLab.\n",
    "* How to work in a notebook session.\n",
    "* How to work with kernels."
   ]
  },
  {
   "cell_type": "markdown",
   "metadata": {
    "tags": []
   },
   "source": [
    "## Author\n",
    "### Shyam Pillai"
   ]
  }
 ],
 "metadata": {
  "kernelspec": {
   "display_name": "Python",
   "language": "python",
   "name": "conda-env-python-py"
  },
  "language_info": {
   "codemirror_mode": {
    "name": "ipython",
    "version": 3
   },
   "file_extension": ".py",
   "mimetype": "text/x-python",
   "name": "python",
   "nbconvert_exporter": "python",
   "pygments_lexer": "ipython3",
   "version": "3.7.12"
  }
 },
 "nbformat": 4,
 "nbformat_minor": 4
}
